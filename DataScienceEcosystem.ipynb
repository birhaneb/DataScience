{
 "cells": [
  {
   "cell_type": "markdown",
   "id": "a86cb3e8-57bb-46f7-9fa8-f2eb890efba6",
   "metadata": {
    "tags": []
   },
   "source": [
    "#### Exercise 2: Create markdown cell with title of the notebook\n"
   ]
  },
  {
   "cell_type": "markdown",
   "id": "8cb2a31a-d4da-418f-ba1d-1bad3ea0f754",
   "metadata": {},
   "source": [
    "# Data Science Tools and Ecosystem"
   ]
  },
  {
   "cell_type": "markdown",
   "id": "c04c521e-dffc-4b82-9d42-ddec92e73286",
   "metadata": {},
   "source": [
    "#### Exercise 3 - Create a markdown cell for an introduction"
   ]
  },
  {
   "cell_type": "markdown",
   "id": "ac42bd76-3d4f-43ad-8bad-d9ac6547a5c6",
   "metadata": {},
   "source": [
    "In this notebook, Data Science Tools and Ecosystem are summarized."
   ]
  },
  {
   "cell_type": "markdown",
   "id": "78798a5a-fb59-42e8-ae94-5dc15ab47094",
   "metadata": {},
   "source": [
    "#### Objectives:\n",
    "+ Describe the components of a Data Scientist's toolkit and list various tool categories.\n",
    "+ List examples of open-source tools used in data science.\n",
    "+ Describe the relevant features of open-source tools.\n",
    "+ List examples of commercial and cloud-based data science tools."
   ]
  },
  {
   "cell_type": "markdown",
   "id": "2590ec6d-9a99-46a7-9210-70df573dba7f",
   "metadata": {},
   "source": [
    "#### Exercise 4 - Create a markdown cell to list data science languages"
   ]
  },
  {
   "cell_type": "markdown",
   "id": "0cdc0b4b-f28a-45a1-9a40-4eed3d1955d7",
   "metadata": {},
   "source": [
    "Start the cell with an overview line such as:"
   ]
  },
  {
   "cell_type": "markdown",
   "id": "76ce35e7-3f74-40d6-b698-19b303d9e64b",
   "metadata": {
    "tags": []
   },
   "source": [
    "1. Python\n",
    "2. R\n",
    "3. Julia "
   ]
  },
  {
   "cell_type": "markdown",
   "id": "c9d70b7a-1ab2-4f7d-a4ba-4e7fe3e17b90",
   "metadata": {
    "tags": []
   },
   "source": [
    "#### Exercise 5 - Create a markdown cell to list data science libraries"
   ]
  },
  {
   "cell_type": "markdown",
   "id": "1eb74e2f-dfe6-42ec-8f1f-93e76874d6ab",
   "metadata": {},
   "source": [
    "Some of the commonly used libraries used by Data Scientists include:"
   ]
  },
  {
   "cell_type": "markdown",
   "id": "441e886b-9ca0-4ba8-a4cd-7ff9eacb0b4c",
   "metadata": {},
   "source": [
    "1. Pandas\n",
    "2. NumPy\n",
    "3. Scikit-learn\n",
    "4. Keras "
   ]
  },
  {
   "cell_type": "markdown",
   "id": "72a91305-6c80-47cb-870d-a0547d9ede7b",
   "metadata": {},
   "source": [
    "#### Exercise 6 - Create a markdown cell with a table of Data Science tools"
   ]
  },
  {
   "cell_type": "markdown",
   "id": "cc148f0a-8e20-4314-bdaa-00021f16d8c1",
   "metadata": {
    "tags": []
   },
   "source": [
    "|Data Science Tools|Examples|\n",
    "|------------------|-----------|\n",
    "|Data Management Tools|MySQL, and PostgreSQL, MongoDB|\n",
    "|Data Integration and Transformation Tools|Apache Airflow and Apache Kafka|\n",
    "|Data Visualization Tools|Cognos Analytics, Tableau and PowerBI|\n",
    "|Code Asset Management Tools|Git, GitHub|"
   ]
  },
  {
   "cell_type": "markdown",
   "id": "93946d98-4727-43f3-af6e-2f1d03c6fcaf",
   "metadata": {},
   "source": [
    "#### Exercise 7 - Create a markdown cell introducing arithmetic expression examples"
   ]
  },
  {
   "cell_type": "markdown",
   "id": "3ea6aeee-6ced-4a22-8e52-0a2a981ee201",
   "metadata": {},
   "source": [
    "### Below are a few examples of evaluating arithmetic expressions in Python"
   ]
  },
  {
   "cell_type": "code",
   "execution_count": 2,
   "id": "3660644a-fd84-4796-9730-02e8a7391e7a",
   "metadata": {
    "tags": []
   },
   "outputs": [
    {
     "data": {
      "text/plain": [
       "True"
      ]
     },
     "execution_count": 2,
     "metadata": {},
     "output_type": "execute_result"
    }
   ],
   "source": [
    "# comparision\n",
    "6 < 9"
   ]
  },
  {
   "cell_type": "code",
   "execution_count": 3,
   "id": "f718b417-1fb6-4ab0-b1e3-8fe6cfe7bd3f",
   "metadata": {
    "tags": []
   },
   "outputs": [
    {
     "data": {
      "text/plain": [
       "12"
      ]
     },
     "execution_count": 3,
     "metadata": {},
     "output_type": "execute_result"
    }
   ],
   "source": [
    "# addition\n",
    "5 + 7"
   ]
  },
  {
   "cell_type": "code",
   "execution_count": 4,
   "id": "5c3aed91-5d0c-479a-9ed8-bdb2f7bc53e5",
   "metadata": {
    "tags": []
   },
   "outputs": [
    {
     "data": {
      "text/plain": [
       "30"
      ]
     },
     "execution_count": 4,
     "metadata": {},
     "output_type": "execute_result"
    }
   ],
   "source": [
    "# multiplication\n",
    "10 * 3 "
   ]
  },
  {
   "cell_type": "markdown",
   "id": "4ef85064-834b-434e-96a9-2d2258ed7532",
   "metadata": {},
   "source": [
    "#### Exercise 8 - Create a code cell to multiply and add numbers"
   ]
  },
  {
   "cell_type": "code",
   "execution_count": 6,
   "id": "04b5c4dd-db9a-4bf5-b094-1480e3bb837b",
   "metadata": {
    "tags": []
   },
   "outputs": [
    {
     "data": {
      "text/plain": [
       "17"
      ]
     },
     "execution_count": 6,
     "metadata": {},
     "output_type": "execute_result"
    }
   ],
   "source": [
    "# This is a arithmetic expression to mutiply then add integers\n",
    "(3*4)+5"
   ]
  },
  {
   "cell_type": "markdown",
   "id": "b5b5234c-a93e-49af-a6bc-bcc42773ffd7",
   "metadata": {},
   "source": [
    "#### Exercise 9 - Create a code cell to convert minutes to hours"
   ]
  },
  {
   "cell_type": "code",
   "execution_count": 7,
   "id": "1b6ee292-d42e-43ea-bd02-7574ef379092",
   "metadata": {
    "tags": []
   },
   "outputs": [
    {
     "data": {
      "text/plain": [
       "3.3333333333333335"
      ]
     },
     "execution_count": 7,
     "metadata": {},
     "output_type": "execute_result"
    }
   ],
   "source": [
    "# convert 200 minutes to hours\n",
    "200/60"
   ]
  },
  {
   "cell_type": "markdown",
   "id": "6bd699df-881f-4105-8dc8-95586a329551",
   "metadata": {
    "tags": []
   },
   "source": [
    "#### Exercise 10 - Insert a markdown cell to list Objectives"
   ]
  },
  {
   "cell_type": "markdown",
   "id": "96368a92-9159-4b24-803a-8c896713f20f",
   "metadata": {},
   "source": [
    "#### Objectives:\n",
    "+ **Describe the components of a Data Scientist's toolkit and list various tool categories.**\n",
    "+ **List examples of open-source tools used in data science.**\n",
    "+ **Describe the relevant features of open-source tools.**\n",
    "+ **List examples of commercial and cloud-based data science tools.**"
   ]
  },
  {
   "cell_type": "markdown",
   "id": "d59bd8b6-6f56-4b0b-a408-12f6201f6677",
   "metadata": {},
   "source": [
    "#### Exercise 11 - Create a markdown cell to indicate the Author's name"
   ]
  },
  {
   "cell_type": "markdown",
   "id": "7aa8b5cb-83c7-4690-9db6-e0ac94269232",
   "metadata": {},
   "source": [
    "## Author"
   ]
  },
  {
   "cell_type": "markdown",
   "id": "976a30b5-7d60-4879-a5e8-fbeb05b0da7e",
   "metadata": {},
   "source": [
    "Birhane Bekele"
   ]
  },
  {
   "cell_type": "code",
   "execution_count": null,
   "id": "dd3100e1-4369-4dad-8a76-636a019cf988",
   "metadata": {},
   "outputs": [],
   "source": []
  }
 ],
 "metadata": {
  "kernelspec": {
   "display_name": "Python",
   "language": "python",
   "name": "conda-env-python-py"
  },
  "language_info": {
   "codemirror_mode": {
    "name": "ipython",
    "version": 3
   },
   "file_extension": ".py",
   "mimetype": "text/x-python",
   "name": "python",
   "nbconvert_exporter": "python",
   "pygments_lexer": "ipython3",
   "version": "3.7.12"
  }
 },
 "nbformat": 4,
 "nbformat_minor": 5
}
